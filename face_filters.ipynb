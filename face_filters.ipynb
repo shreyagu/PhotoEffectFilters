{
 "cells": [
  {
   "cell_type": "code",
   "execution_count": 1,
   "metadata": {},
   "outputs": [
    {
     "name": "stdout",
     "output_type": "stream",
     "text": [
      "Populating the interactive namespace from numpy and matplotlib\n"
     ]
    }
   ],
   "source": [
    "%pylab notebook\n",
    "import cv2\n",
    "import time"
   ]
  },
  {
   "cell_type": "markdown",
   "metadata": {},
   "source": [
    "# Load the Haar Cascades"
   ]
  },
  {
   "cell_type": "code",
   "execution_count": 2,
   "metadata": {},
   "outputs": [],
   "source": [
    "face_cascade  = cv2.CascadeClassifier(\"haarcascade_frontalface_default.xml\")\n",
    "eye_cascade   = cv2.CascadeClassifier(\"haarcascade_eye_tree_eyeglasses.xml\")"
   ]
  },
  {
   "cell_type": "code",
   "execution_count": 3,
   "metadata": {},
   "outputs": [],
   "source": [
    "# Function   : set_effect\n",
    "# Input      : img    - video frame\n",
    "#              option - set of all effects to be performed\n",
    "# Output     : output frame\n",
    "# Description: Perform the requested effect on the video frame\n",
    "def set_effect(img, option):\n",
    "    gray = cv2.cvtColor(img, cv2.COLOR_BGR2GRAY)\n",
    "    faces = face_cascade.detectMultiScale(gray, 1.3, 3)\n",
    "    for (x,y, w, h) in faces:\n",
    "        roi_g = gray[y:y+h, x:x+w]\n",
    "        roi_c = img[y:y+h, x:x+w]\n",
    "        \n",
    "\n",
    "        eye = eye_cascade.detectMultiScale(roi_g, 1.1, 3)\n",
    "\n",
    "    return img            "
   ]
  },
  {
   "cell_type": "markdown",
   "metadata": {},
   "source": [
    "# Start the video capture\n"
   ]
  },
  {
   "cell_type": "code",
   "execution_count": 4,
   "metadata": {},
   "outputs": [],
   "source": [
    "test = cv2.VideoCapture(0)\n",
    "option = set([])"
   ]
  },
  {
   "cell_type": "code",
   "execution_count": 5,
   "metadata": {},
   "outputs": [],
   "source": [
    "while(True):\n",
    "    \n",
    "    ret, frame = test.read()\n",
    "\n",
    "    try:\n",
    "        out = set_effect(frame, option)\n",
    "        font = cv2.FONT_HERSHEY_SCRIPT_COMPLEX\n",
    "        cv2.putText(out,'Change Effect',(400,465), font, 1.2,(127,127,255),2,cv2.LINE_AA)\n",
    "        out = cv2.resize(out, (1200, 900))\n",
    "        cv2.resizeWindow('frame', 1200,900)\n",
    "        cv2.imshow('frame',out)\n",
    "    except:\n",
    "        pass\n",
    "    \n",
    "    \n",
    "    if cv2.waitKey(1) & 0xFF == ord('q'):\n",
    "        break\n",
    "test.release()\n",
    "cv2.destroyAllWindows()"
   ]
  },
  {
   "cell_type": "code",
   "execution_count": 6,
   "metadata": {},
   "outputs": [],
   "source": [
    "test.release()\n",
    "cv2.destroyAllWindows()"
   ]
  },
  {
   "cell_type": "code",
   "execution_count": null,
   "metadata": {},
   "outputs": [],
   "source": []
  }
 ],
 "metadata": {
  "kernelspec": {
   "display_name": "Python 3",
   "language": "python",
   "name": "python3"
  },
  "language_info": {
   "codemirror_mode": {
    "name": "ipython",
    "version": 3
   },
   "file_extension": ".py",
   "mimetype": "text/x-python",
   "name": "python",
   "nbconvert_exporter": "python",
   "pygments_lexer": "ipython3",
   "version": "3.6.5"
  }
 },
 "nbformat": 4,
 "nbformat_minor": 2
}
